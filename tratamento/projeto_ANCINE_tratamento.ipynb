{
  "nbformat": 4,
  "nbformat_minor": 0,
  "metadata": {
    "colab": {
      "provenance": []
    },
    "kernelspec": {
      "name": "python3",
      "display_name": "Python 3"
    },
    "language_info": {
      "name": "python"
    }
  },
  "cells": [
    {
      "cell_type": "markdown",
      "source": [
        "# Este projeto tem como objetivo responder algumas curiosidades a respeito dos dados de bilheteria diária divulgados mensalmente pela ANCINE.\n",
        "\n",
        "## Nesta primeira parte, nos esforçaremos para:\n",
        "1.   Importar os dados\n",
        "2.   Organizá-los de maneira mais favrável para a análise\n",
        "3.   Realizar a exportação tabela, deixando-a com um tamanho mais adequado para a análise.\n",
        "\n"
      ],
      "metadata": {
        "id": "MIgdgAiWwTrG"
      }
    },
    {
      "cell_type": "code",
      "execution_count": null,
      "metadata": {
        "id": "pkTAEyYduflB"
      },
      "outputs": [],
      "source": [
        "# Instalando e cinfigurandos pacotes a serem utilizados durante o projeto:\n",
        "import pandas as pd\n",
        "pd.set_option('display.max_columns', None)\n",
        "from zipfile import ZipFile\n",
        "import zipfile\n",
        "import numpy as np\n",
        "from io import StringIO\n",
        "import os\n",
        "import glob\n",
        "import seaborn as sns\n",
        "import matplotlib.pyplot as plt\n",
        "\n",
        "# Configurando o Google Drive para uso no Collab:\n",
        "from google.colab import drive\n",
        "drive.mount('/content/drive')"
      ]
    },
    {
      "cell_type": "code",
      "source": [
        "# Organiando dados na área de trabalho:\n",
        "with zipfile.ZipFile('/content/drive/MyDrive/br_ancine_diarias_de_cinema/input/bilheteria-diaria-obras-por-distribuidoras-csv.zip') as zip:\n",
        "    zip.extractall('bilheteria')"
      ],
      "metadata": {
        "id": "YhEexkaXulHr"
      },
      "execution_count": null,
      "outputs": []
    },
    {
      "cell_type": "code",
      "source": [
        "# Criando uma função de importação de arquivos:\n",
        "def import_etl(path:str):\n",
        "  name = path.split(\"/\")[-1].split(\".\")[0]\n",
        "  df = pd.read_csv(path, dtype=str, sep =\";\", na_values=\"\")\n",
        "  df['DATA_EXIBICAO'] = df['DATA_EXIBICAO'].str.replace('/', '-')\n",
        "  df['DATA_EXIBICAO']  = pd.to_datetime(df['DATA_EXIBICAO'], format='%d-%m-%Y').dt.strftime('%Y-%m-%d')\n",
        "  df['CNPJ_DISTRIBUIDORA'] = df['CNPJ_DISTRIBUIDORA'].str.replace('.', '', regex=True).replace('/', '', regex=True).replace('-', '', regex=True)\n",
        "\n",
        "  return df"
      ],
      "metadata": {
        "id": "C9cgN70TuqpL"
      },
      "execution_count": null,
      "outputs": []
    },
    {
      "cell_type": "code",
      "source": [
        "# Indicando o caminho dos arquivos:\n",
        "path = \"/content/bilheteria/\"\n",
        "files = os.listdir(path)\n",
        "files.sort()"
      ],
      "metadata": {
        "id": "psEVlnC9uyZY"
      },
      "execution_count": null,
      "outputs": []
    },
    {
      "cell_type": "code",
      "source": [
        "# Criando uma iteração para auxiliar na concatenação dos arquivos:\n",
        "dfs = []\n",
        "for file in files:\n",
        "    dfs.append(import_etl(path+file))"
      ],
      "metadata": {
        "id": "OUKOX0kFu0Gj"
      },
      "execution_count": null,
      "outputs": []
    },
    {
      "cell_type": "code",
      "source": [
        "#Concatenando, reorganizando colunas e exportando arquivo com histórico geral das bilheterias:\n",
        "df_geral = pd.concat(dfs, axis=0)\n",
        "df_geral.columns= df_geral.columns.str.lower()\n",
        "df_geral = df_geral.drop(columns=[\"registro_complexo\", \"registro_grupo_exibidor\", \"registro_exibidor\", \"cnpj_distribuidora\", \"cpb_roe\", \"titulo_brasil\", \"registro_sala\", \"municipio_sala_complexo\"])\n",
        "ordem = ['data_exibicao',\n",
        "          'uf_sala_complexo',\n",
        "          'pais_obra',\n",
        "          'titulo_original',\n",
        "          'publico']\n",
        "df_geral = df_geral[ordem]\n",
        "df_geral = df_geral.applymap(lambda x: x.lower() if isinstance(x, str) else x)\n",
        "df_geral['ano_exibicao'] = df_geral['data_exibicao'].str[:4]\n",
        "df_geral['dia_exibicao'] = df_geral['data_exibicao'].str[-2:]\n",
        "df_geral['mes_exibicao'] = df_geral['data_exibicao'].str[5:7]\n",
        "df_geral.to_parquet('/content/drive/MyDrive/br_ancine_diarias_de_cinema/output/bilheteria_geral', index=False)"
      ],
      "metadata": {
        "id": "ZKWz9bl_u_kB"
      },
      "execution_count": null,
      "outputs": []
    }
  ]
}